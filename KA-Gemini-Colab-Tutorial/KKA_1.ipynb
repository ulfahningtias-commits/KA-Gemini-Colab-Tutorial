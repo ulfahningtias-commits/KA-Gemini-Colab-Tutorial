{
  "cells": [
    {
      "cell_type": "code",
      "execution_count": null,
      "metadata": {
        "id": "xLgQKhdwV4Hh"
      },
      "outputs": [],
      "source": [
        "!pip install -q -U google-generativeai"
      ]
    },
    {
      "cell_type": "code",
      "execution_count": null,
      "metadata": {
        "id": "TVbOUXnjYe8Y"
      },
      "outputs": [],
      "source": [
        "import google.generativeai as genai"
      ]
    },
    {
      "cell_type": "code",
      "execution_count": null,
      "metadata": {
        "id": "cKaDjyyVoYuF"
      },
      "outputs": [],
      "source": [
        "from google.colab import userdata\n",
        "API_KEY = userdata.get('API_KEY')"
      ]
    },
    {
      "cell_type": "code",
      "execution_count": null,
      "metadata": {
        "id": "hAwWCgxaoQAI"
      },
      "outputs": [],
      "source": [
        "import os\n",
        "from google.colab import userdata\n",
        "\n",
        "# Mengkonfigurasi Gemini API dengan kunci API Anda\n",
        "genai.configure(api_key=userdata.get('API_KEY'))"
      ]
    },
    {
      "cell_type": "code",
      "execution_count": null,
      "metadata": {
        "colab": {
          "base_uri": "https://localhost:8080/",
          "height": 729
        },
        "collapsed": true,
        "id": "o_tuC4plZY6f",
        "outputId": "93f98585-6385-459a-9650-6750e1a9ca02"
      },
      "outputs": [
        {
          "output_type": "stream",
          "name": "stdout",
          "text": [
            "models/gemini-1.5-pro-latest\n",
            "models/gemini-1.5-pro-002\n",
            "models/gemini-1.5-pro\n",
            "models/gemini-1.5-flash-latest\n",
            "models/gemini-1.5-flash\n",
            "models/gemini-1.5-flash-002\n",
            "models/gemini-1.5-flash-8b\n",
            "models/gemini-1.5-flash-8b-001\n",
            "models/gemini-1.5-flash-8b-latest\n",
            "models/gemini-2.5-pro-preview-03-25\n",
            "models/gemini-2.5-flash-preview-05-20\n",
            "models/gemini-2.5-flash\n",
            "models/gemini-2.5-flash-lite-preview-06-17\n",
            "models/gemini-2.5-pro-preview-05-06\n",
            "models/gemini-2.5-pro-preview-06-05\n",
            "models/gemini-2.5-pro\n",
            "models/gemini-2.0-flash-exp\n",
            "models/gemini-2.0-flash\n",
            "models/gemini-2.0-flash-001\n",
            "models/gemini-2.0-flash-exp-image-generation\n",
            "models/gemini-2.0-flash-lite-001\n",
            "models/gemini-2.0-flash-lite\n",
            "models/gemini-2.0-flash-preview-image-generation\n",
            "models/gemini-2.0-flash-lite-preview-02-05\n",
            "models/gemini-2.0-flash-lite-preview\n",
            "models/gemini-2.0-pro-exp\n",
            "models/gemini-2.0-pro-exp-02-05\n",
            "models/gemini-exp-1206\n",
            "models/gemini-2.0-flash-thinking-exp-01-21\n",
            "models/gemini-2.0-flash-thinking-exp\n",
            "models/gemini-2.0-flash-thinking-exp-1219\n",
            "models/gemini-2.5-flash-preview-tts\n",
            "models/gemini-2.5-pro-preview-tts\n",
            "models/learnlm-2.0-flash-experimental\n",
            "models/gemma-3-1b-it\n",
            "models/gemma-3-4b-it\n",
            "models/gemma-3-12b-it\n",
            "models/gemma-3-27b-it\n",
            "models/gemma-3n-e4b-it\n",
            "models/gemma-3n-e2b-it\n",
            "models/gemini-2.5-flash-lite\n"
          ]
        }
      ],
      "source": [
        "for m in genai.list_models():\n",
        "  if 'generateContent' in m.supported_generation_methods:\n",
        "    print(m.name)"
      ]
    },
    {
      "cell_type": "code",
      "execution_count": null,
      "metadata": {
        "id": "QFXjh3-xaVVF"
      },
      "outputs": [],
      "source": [
        "model = genai.GenerativeModel('gemini-1.5-flash-latest')"
      ]
    },
    {
      "cell_type": "code",
      "execution_count": null,
      "metadata": {
        "colab": {
          "base_uri": "https://localhost:8080/",
          "height": 211
        },
        "id": "_HbNDIL_bg4v",
        "outputId": "99d5cf01-b99b-4a4d-a3af-1f4ff1db248d"
      },
      "outputs": [
        {
          "output_type": "stream",
          "name": "stdout",
          "text": [
            "Kucing, hewan mamalia yang menarik dan misterius, telah berbagi dunia dengan manusia selama ribuan tahun.  Kehadirannya yang anggun dan sifatnya yang independen telah membuatnya menjadi hewan peliharaan yang populer di seluruh dunia.  Ada berbagai macam jenis kucing, dari yang berbulu pendek dan ramping hingga yang berbulu panjang dan gemuk, masing-masing dengan kepribadian dan ciri khasnya sendiri.\n",
            "\n",
            "Kucing terkenal karena kemampuan berburu yang alami.  Indra penglihatannya yang tajam, pendengaran yang sensitif, dan refleks yang cepat menjadikan mereka pemburu yang efektif, baik di alam liar maupun di rumah, saat berburu mainan kesayangan mereka.  Mereka juga makhluk yang sangat lincah dan mampu memanjat, melompat, dan menyelip di tempat-tempat sempit dengan mudah.\n",
            "\n",
            "Meskipun reputasinya sebagai hewan peliharaan yang mandiri, kucing mampu membentuk ikatan yang kuat dengan manusia.  Beberapa kucing sangat ramah dan penuh kasih sayang, menikmati belaian dan waktu bermain dengan pemiliknya.  Yang lain mungkin lebih pendiam, tetapi masih menunjukkan kasih sayang melalui cara mereka sendiri, misalnya dengan mendengkur saat dibelai atau tidur di dekat pemiliknya.  Komunikasi mereka yang halus, melalui bahasa tubuh seperti menggesekkan tubuh, mendengkur, menggigit lembut, dan menggeram, membutuhkan pemahaman yang cermat untuk memahami mood dan kebutuhan mereka.\n",
            "\n",
            "Kehidupan kucing sangat bervariasi tergantung pada lingkungan mereka.  Kucing liar hidup secara independen, berburu mangsa untuk bertahan hidup, sementara kucing peliharaan menikmati kenyamanan dan keamanan rumah, dengan makanan dan perawatan yang disediakan oleh pemiliknya.  Umur rata-rata kucing bervariasi tergantung pada jenisnya dan perawatan yang diterimanya, tetapi umumnya antara 13 hingga 17 tahun.\n",
            "\n",
            "Kucing adalah hewan yang kompleks dan mempesona.  Mereka memiliki kecerdasan dan kepribadian yang unik, yang terus memikat dan menghibur manusia selama berabad-abad.  Dari permainan yang nakal hingga momen-momen tenang yang penuh kasih sayang, kucing telah menemukan tempat khusus di hati banyak orang di seluruh dunia.\n",
            "\n"
          ]
        }
      ],
      "source": [
        "response = model.generate_content(\"Ceritakan Tentang Kucing\")\n",
        "print(response.text)"
      ]
    },
    {
      "cell_type": "code",
      "execution_count": null,
      "metadata": {
        "colab": {
          "base_uri": "https://localhost:8080/",
          "height": 1000
        },
        "id": "yprkpkwpo6N6",
        "outputId": "dadd66df-541a-4f68-e4b8-26c277370b87"
      },
      "outputs": [
        {
          "output_type": "stream",
          "name": "stdout",
          "text": [
            "--- Memulai Percakapan (Ketik 'keluar' untuk mengakhiri) ---\n",
            "Anda: Kecerdasan artifisial\n",
            "Gemini: Kecerdasan buatan (AI) adalah bidang ilmu komputer yang berfokus pada pembuatan mesin yang cerdas.  Ini adalah bidang yang sangat luas dan mencakup berbagai macam teknik dan aplikasi.  Berikut beberapa poin penting tentang kecerdasan buatan:\n",
            "\n",
            "**Konsep Dasar:**\n",
            "\n",
            "* **Simulasi Kecerdasan Manusia:** AI bertujuan meniru kemampuan kognitif manusia seperti belajar, pemecahan masalah, pengambilan keputusan, dan pengenalan pola.  Namun, AI tidak bertujuan untuk menciptakan kesadaran atau emosi seperti manusia.\n",
            "* **Pembelajaran Mesin (Machine Learning):**  Ini adalah subset dari AI yang memungkinkan sistem untuk belajar dari data tanpa diprogram secara eksplisit.  Algoritma pembelajaran mesin menemukan pola dan membuat prediksi berdasarkan data yang diberikan.\n",
            "* **Pembelajaran Mendalam (Deep Learning):**  Ini adalah subbidang dari pembelajaran mesin yang menggunakan jaringan saraf tiruan dengan banyak lapisan untuk menganalisis data.  Deep learning sangat efektif dalam menangani data yang kompleks dan berdimensi tinggi.\n",
            "* **Pengolahan Bahasa Alami (Natural Language Processing - NLP):**  Ini berfokus pada memungkinkan komputer untuk memahami, menafsirkan, dan menghasilkan bahasa manusia.  NLP digunakan dalam berbagai aplikasi seperti penerjemahan mesin, chatbot, dan analisis sentimen.\n",
            "* **Computer Vision:**  Ini melibatkan pengembangan sistem yang dapat \"melihat\" dan menafsirkan gambar dan video, seperti mengenali objek, wajah, dan adegan.\n",
            "\n",
            "**Aplikasi AI:**\n",
            "\n",
            "AI telah diterapkan dalam berbagai bidang, termasuk:\n",
            "\n",
            "* **Kesehatan:** Diagnosa penyakit, penemuan obat, perawatan yang dipersonalisasi.\n",
            "* **Keuangan:** Deteksi penipuan, manajemen risiko, perdagangan otomatis.\n",
            "* **Transportasi:** Kendaraan otonom, optimasi rute, manajemen lalu lintas.\n",
            "* **Hiburan:** Rekomendasi film dan musik, game AI, pembuatan konten.\n",
            "* **Manufaktur:** Otomatisasi, kontrol kualitas, prediksi pemeliharaan.\n",
            "* **Riset ilmiah:** Analisis data, simulasi, penemuan ilmiah.\n",
            "\n",
            "**Tantangan dan Pertimbangan Etik:**\n",
            "\n",
            "* **Bias Algoritma:** Sistem AI dapat mewarisi bias dari data yang digunakan untuk melatihnya, yang dapat menyebabkan diskriminasi.\n",
            "* **Privasi Data:** Pengumpulan dan penggunaan data pribadi untuk melatih sistem AI menimbulkan masalah privasi.\n",
            "* **Keamanan:** Sistem AI dapat menjadi target serangan siber dan digunakan untuk tujuan jahat.\n",
            "* **Pengangguran:** Otomatisasi yang didorong oleh AI dapat menggantikan pekerjaan manusia.\n",
            "* **Tanggung Jawab:** Menentukan tanggung jawab atas kesalahan atau keputusan yang dibuat oleh sistem AI.\n",
            "\n",
            "\n",
            "**Kesimpulan:**\n",
            "\n",
            "Kecerdasan buatan adalah bidang yang berkembang pesat dengan potensi untuk mengubah banyak aspek kehidupan kita.  Namun, penting untuk mempertimbangkan tantangan dan pertimbangan etis yang terkait dengan pengembangan dan penggunaan AI agar dapat memanfaatkan manfaatnya secara bertanggung jawab.  Lebih banyak diskusi dan regulasi diperlukan untuk memastikan pengembangan AI yang etis dan bertanggung jawab.\n",
            "\n",
            "Anda: Keluar\n",
            "Percakapan berakhir.\n",
            "--- Riwayat Percakapan Lengkap ---\n",
            "Anda: Kecerdasan artifisial\n",
            "Gemini: Kecerdasan buatan (AI) adalah bidang ilmu komputer yang berfokus pada pembuatan mesin yang cerdas.  Ini adalah bidang yang sangat luas dan mencakup berbagai macam teknik dan aplikasi.  Berikut beberapa poin penting tentang kecerdasan buatan:\n",
            "\n",
            "**Konsep Dasar:**\n",
            "\n",
            "* **Simulasi Kecerdasan Manusia:** AI bertujuan meniru kemampuan kognitif manusia seperti belajar, pemecahan masalah, pengambilan keputusan, dan pengenalan pola.  Namun, AI tidak bertujuan untuk menciptakan kesadaran atau emosi seperti manusia.\n",
            "* **Pembelajaran Mesin (Machine Learning):**  Ini adalah subset dari AI yang memungkinkan sistem untuk belajar dari data tanpa diprogram secara eksplisit.  Algoritma pembelajaran mesin menemukan pola dan membuat prediksi berdasarkan data yang diberikan.\n",
            "* **Pembelajaran Mendalam (Deep Learning):**  Ini adalah subbidang dari pembelajaran mesin yang menggunakan jaringan saraf tiruan dengan banyak lapisan untuk menganalisis data.  Deep learning sangat efektif dalam menangani data yang kompleks dan berdimensi tinggi.\n",
            "* **Pengolahan Bahasa Alami (Natural Language Processing - NLP):**  Ini berfokus pada memungkinkan komputer untuk memahami, menafsirkan, dan menghasilkan bahasa manusia.  NLP digunakan dalam berbagai aplikasi seperti penerjemahan mesin, chatbot, dan analisis sentimen.\n",
            "* **Computer Vision:**  Ini melibatkan pengembangan sistem yang dapat \"melihat\" dan menafsirkan gambar dan video, seperti mengenali objek, wajah, dan adegan.\n",
            "\n",
            "**Aplikasi AI:**\n",
            "\n",
            "AI telah diterapkan dalam berbagai bidang, termasuk:\n",
            "\n",
            "* **Kesehatan:** Diagnosa penyakit, penemuan obat, perawatan yang dipersonalisasi.\n",
            "* **Keuangan:** Deteksi penipuan, manajemen risiko, perdagangan otomatis.\n",
            "* **Transportasi:** Kendaraan otonom, optimasi rute, manajemen lalu lintas.\n",
            "* **Hiburan:** Rekomendasi film dan musik, game AI, pembuatan konten.\n",
            "* **Manufaktur:** Otomatisasi, kontrol kualitas, prediksi pemeliharaan.\n",
            "* **Riset ilmiah:** Analisis data, simulasi, penemuan ilmiah.\n",
            "\n",
            "**Tantangan dan Pertimbangan Etik:**\n",
            "\n",
            "* **Bias Algoritma:** Sistem AI dapat mewarisi bias dari data yang digunakan untuk melatihnya, yang dapat menyebabkan diskriminasi.\n",
            "* **Privasi Data:** Pengumpulan dan penggunaan data pribadi untuk melatih sistem AI menimbulkan masalah privasi.\n",
            "* **Keamanan:** Sistem AI dapat menjadi target serangan siber dan digunakan untuk tujuan jahat.\n",
            "* **Pengangguran:** Otomatisasi yang didorong oleh AI dapat menggantikan pekerjaan manusia.\n",
            "* **Tanggung Jawab:** Menentukan tanggung jawab atas kesalahan atau keputusan yang dibuat oleh sistem AI.\n",
            "\n",
            "\n",
            "**Kesimpulan:**\n",
            "\n",
            "Kecerdasan buatan adalah bidang yang berkembang pesat dengan potensi untuk mengubah banyak aspek kehidupan kita.  Namun, penting untuk mempertimbangkan tantangan dan pertimbangan etis yang terkait dengan pengembangan dan penggunaan AI agar dapat memanfaatkan manfaatnya secara bertanggung jawab.  Lebih banyak diskusi dan regulasi diperlukan untuk memastikan pengembangan AI yang etis dan bertanggung jawab.\n",
            "\n",
            "------------------------------\n"
          ]
        }
      ],
      "source": [
        "# Memulai sesi chat\n",
        "chat = model.start_chat()\n",
        "\n",
        "print(\"--- Memulai Percakapan (Ketik 'keluar' untuk mengakhiri) ---\")\n",
        "\n",
        "# Loop sederhana untuk interaksi chat\n",
        "while True:\n",
        "    user_message = input(\"Anda: \")\n",
        "    if user_message.lower() == 'keluar':\n",
        "        print(\"Percakapan berakhir.\")\n",
        "        break\n",
        "\n",
        "    try:\n",
        "        response_chat = chat.send_message(user_message)\n",
        "        print(f\"Gemini: {response_chat.text}\")\n",
        "    except Exception as e:\n",
        "        print(f\"Terjadi kesalahan saat berkomunikasi dengan Gemini: {e}\")\n",
        "        # Jika terjadi error, mungkin ada masalah dengan input atau model\n",
        "        # Anda bisa memilih untuk keluar atau mencoba lagi\n",
        "        break\n",
        "\n",
        "print(\"--- Riwayat Percakapan Lengkap ---\")\n",
        "# Menampilkan seluruh riwayat percakapan setelah sesi berakhir\n",
        "for message in chat.history:\n",
        "    role = \"Anda\" if message.role == \"user\" else \"Gemini\"\n",
        "    print(f\"{role}: {message.parts[0].text}\")\n",
        "print(\"-\" * 30)"
      ]
    }
  ],
  "metadata": {
    "colab": {
      "provenance": []
    },
    "kernelspec": {
      "display_name": "Python 3",
      "name": "python3"
    },
    "language_info": {
      "name": "python"
    }
  },
  "nbformat": 4,
  "nbformat_minor": 0
}